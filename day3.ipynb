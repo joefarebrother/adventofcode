{
 "cells": [
  {
   "cell_type": "code",
   "execution_count": 4,
   "source": [
    "from utils import *\n",
    "\n",
    "inp = readlines(3)\n",
    "\n",
    "def in_pos(n, xs=inp):\n",
    "    return [l[n] for l in xs]\n",
    "\n",
    "gam = \"\"\n",
    "eps = \"\"\n",
    "\n",
    "for i in range(len(inp[0])):\n",
    "    p = in_pos(i)\n",
    "    if p.count(\"1\") > p.count(\"0\"):\n",
    "        gam += \"1\"\n",
    "        eps += \"0\"\n",
    "    else:\n",
    "        gam += \"0\"\n",
    "        eps += \"1\"\n",
    "\n",
    "gam = eval(\"0b\"+gam)\n",
    "eps = eval(\"0b\"+eps)\n",
    "\n",
    "gam,eps,gam*eps"
   ],
   "outputs": [
    {
     "output_type": "execute_result",
     "data": {
      "text/plain": [
       "(1508, 2587, 3901196)"
      ]
     },
     "metadata": {},
     "execution_count": 4
    }
   ],
   "metadata": {}
  },
  {
   "cell_type": "code",
   "execution_count": 12,
   "source": [
    "def filter1(pos, rating, xs):\n",
    "    bits = ints(in_pos(pos, xs))\n",
    "    count0 = bits.count(0)\n",
    "    count1 = bits.count(1)\n",
    "    count = None\n",
    "    if rating == \"ox\":\n",
    "        count = 1 if count1 >= count0 else 0\n",
    "    else:\n",
    "        count = 0 if count1 >= count0 else 1\n",
    "    return [x for x in xs if x[pos] == str(count)]\n",
    "\n",
    "def filter(xs, rating):\n",
    "    for pos in range(len(xs[0])):\n",
    "        xs = filter1(pos, rating, xs)\n",
    "        if len(xs) == 1:\n",
    "            return xs[0]\n",
    "\n",
    "ox = filter(inp, \"ox\")\n",
    "co2 = filter(inp, \"co2\")\n",
    "\n",
    "ox = eval(\"0b\"+ox)\n",
    "co2 = eval(\"0b\"+co2)\n",
    "ox,co2,ox*co2"
   ],
   "outputs": [
    {
     "output_type": "execute_result",
     "data": {
      "text/plain": [
       "(1639, 2692, 4412188)"
      ]
     },
     "metadata": {},
     "execution_count": 12
    }
   ],
   "metadata": {}
  }
 ],
 "metadata": {
  "orig_nbformat": 4,
  "language_info": {
   "name": "python",
   "version": "3.9.5",
   "mimetype": "text/x-python",
   "codemirror_mode": {
    "name": "ipython",
    "version": 3
   },
   "pygments_lexer": "ipython3",
   "nbconvert_exporter": "python",
   "file_extension": ".py"
  },
  "kernelspec": {
   "name": "python3",
   "display_name": "Python 3.9.5 64-bit"
  },
  "interpreter": {
   "hash": "36cf16204b8548560b1c020c4e8fb5b57f0e4c58016f52f2d4be01e192833930"
  }
 },
 "nbformat": 4,
 "nbformat_minor": 2
}