{
 "cells": [
  {
   "cell_type": "code",
   "execution_count": 4,
   "source": [
    "from utils import *\n",
    "\n",
    "inp = get_input(2)"
   ],
   "outputs": [
    {
     "output_type": "stream",
     "name": "stdout",
     "text": [
      "Using cached input from 2.in\n",
      "Lines: 1000\n",
      "Blank lines: 0\n",
      "Numeric lines: 1000\n",
      "CSV Numeric lines: 1000\n",
      "Min integer: 1\n",
      "Max integer: 9\n"
     ]
    }
   ],
   "metadata": {}
  },
  {
   "cell_type": "code",
   "execution_count": 5,
   "source": [],
   "outputs": [
    {
     "output_type": "execute_result",
     "data": {
      "text/plain": [
       "1561344"
      ]
     },
     "metadata": {},
     "execution_count": 5
    }
   ],
   "metadata": {}
  },
  {
   "cell_type": "code",
   "execution_count": 10,
   "source": [
    "x = 0\n",
    "d = 0\n",
    "for line in inp:\n",
    "    amt = ints_in(line)[0]\n",
    "    if line.startswith(\"forward\"):\n",
    "        x += amt \n",
    "    elif line.startswith(\"down\"):\n",
    "        d += amt \n",
    "    elif line.startswith(\"up\"):\n",
    "        d-=amt\n",
    "\n",
    "x,d,x*d"
   ],
   "outputs": [
    {
     "output_type": "execute_result",
     "data": {
      "text/plain": [
       "(2033, 768, 1561344)"
      ]
     },
     "metadata": {},
     "execution_count": 10
    }
   ],
   "metadata": {}
  },
  {
   "cell_type": "code",
   "execution_count": 11,
   "source": [
    "x = 0\n",
    "d = 0\n",
    "aim = 0\n",
    "for line in inp:\n",
    "    amt = ints_in(line)[0]\n",
    "    if line.startswith(\"forward\"):\n",
    "        x += amt \n",
    "        d += amt*aim\n",
    "    elif line.startswith(\"down\"):\n",
    "        aim += amt\n",
    "    elif line.startswith(\"up\"):\n",
    "        aim -= amt\n",
    "\n",
    "x,d,x*d"
   ],
   "outputs": [
    {
     "output_type": "execute_result",
     "data": {
      "text/plain": [
       "(2033, 909225, 1848454425)"
      ]
     },
     "metadata": {},
     "execution_count": 11
    }
   ],
   "metadata": {}
  },
  {
   "cell_type": "code",
   "execution_count": null,
   "source": [],
   "outputs": [],
   "metadata": {}
  }
 ],
 "metadata": {
  "orig_nbformat": 4,
  "language_info": {
   "name": "python",
   "version": "3.9.5",
   "mimetype": "text/x-python",
   "codemirror_mode": {
    "name": "ipython",
    "version": 3
   },
   "pygments_lexer": "ipython3",
   "nbconvert_exporter": "python",
   "file_extension": ".py"
  },
  "kernelspec": {
   "name": "python3",
   "display_name": "Python 3.9.5 64-bit"
  },
  "interpreter": {
   "hash": "36cf16204b8548560b1c020c4e8fb5b57f0e4c58016f52f2d4be01e192833930"
  }
 },
 "nbformat": 4,
 "nbformat_minor": 2
}