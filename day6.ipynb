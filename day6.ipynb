{
 "cells": [
  {
   "cell_type": "code",
   "execution_count": 1,
   "source": [
    "from utils import *\n",
    "\n",
    "inp = get_input(6)"
   ],
   "outputs": [
    {
     "output_type": "stream",
     "name": "stdout",
     "text": [
      "Waiting 795.0 seconds\n",
      "Downloading input for 2021 day 6 to 6.in\n",
      "Lines: 1\n",
      "Blank lines: 0\n",
      "Numeric lines: 0\n",
      "CSV Numeric lines: 1\n",
      "Min integer: 1\n",
      "Max integer: 5\n"
     ]
    }
   ],
   "metadata": {}
  },
  {
   "cell_type": "code",
   "execution_count": 3,
   "source": [
    "inp = ints(inp[0].split(\",\"))"
   ],
   "outputs": [],
   "metadata": {}
  },
  {
   "cell_type": "code",
   "execution_count": null,
   "source": [
    "amts = defaultdict(int)\n",
    "for i in inp:\n",
    "    amts[i] += 1\n",
    "\n",
    "amts"
   ],
   "outputs": [],
   "metadata": {}
  },
  {
   "cell_type": "code",
   "execution_count": 10,
   "source": [
    "def step(amts):\n",
    "    new = defaultdict(int)\n",
    "    for i in amts:\n",
    "        if i:\n",
    "            new[i-1] = amts[i]\n",
    "    new[6] += amts[0]\n",
    "    new[8] += amts[0]\n",
    "    return new\n",
    "\n"
   ],
   "outputs": [],
   "metadata": {}
  },
  {
   "cell_type": "code",
   "execution_count": null,
   "source": [
    "for i in range(256):\n",
    "    amts = step(amts)\n",
    "    print(i, sum(amts.values()))"
   ],
   "outputs": [],
   "metadata": {}
  }
 ],
 "metadata": {
  "orig_nbformat": 4,
  "language_info": {
   "name": "python",
   "version": "3.9.5",
   "mimetype": "text/x-python",
   "codemirror_mode": {
    "name": "ipython",
    "version": 3
   },
   "pygments_lexer": "ipython3",
   "nbconvert_exporter": "python",
   "file_extension": ".py"
  },
  "kernelspec": {
   "name": "python3",
   "display_name": "Python 3.9.5 64-bit"
  },
  "interpreter": {
   "hash": "36cf16204b8548560b1c020c4e8fb5b57f0e4c58016f52f2d4be01e192833930"
  }
 },
 "nbformat": 4,
 "nbformat_minor": 2
}