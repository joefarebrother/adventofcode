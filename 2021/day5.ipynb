{
 "cells": [
  {
   "cell_type": "code",
   "execution_count": 6,
   "source": [
    "from utils import *\n",
    "\n",
    "inp = get_input(5)"
   ],
   "outputs": [
    {
     "output_type": "stream",
     "name": "stdout",
     "text": [
      "Using cached input from 5.in\n",
      "Lines: 500\n",
      "Blank lines: 0\n",
      "Numeric lines: 0\n",
      "CSV Numeric lines: 0\n",
      "Min integer: 10\n",
      "Max integer: 989\n"
     ]
    }
   ],
   "metadata": {}
  },
  {
   "cell_type": "code",
   "execution_count": null,
   "source": [
    "inp = [ints_in(l) for l in inp]\n",
    "inp"
   ],
   "outputs": [],
   "metadata": {}
  },
  {
   "cell_type": "code",
   "execution_count": null,
   "source": [
    "\n",
    "lines = [Rectangle((x[0], x[1]), (x[2], x[3])) for x in inp if x[0] == x[2] or x[1] == x[3]]\n",
    "lines"
   ],
   "outputs": [],
   "metadata": {}
  },
  {
   "cell_type": "code",
   "execution_count": 43,
   "source": [
    "grid = Grid()\n",
    "for l in lines:\n",
    "    for p in l:\n",
    "        grid[p] = grid[p]+1 if grid[p] else 1\n",
    "\n"
   ],
   "outputs": [],
   "metadata": {}
  },
  {
   "cell_type": "code",
   "execution_count": 45,
   "source": [
    "c = 0\n",
    "for p in grid:\n",
    "    if grid[p] > 1:\n",
    "        c+= 1\n",
    "\n",
    "c"
   ],
   "outputs": [
    {
     "output_type": "execute_result",
     "data": {
      "text/plain": [
       "21104"
      ]
     },
     "metadata": {},
     "execution_count": 45
    }
   ],
   "metadata": {}
  },
  {
   "cell_type": "code",
   "execution_count": 44,
   "source": [
    "diags = [x for x in inp if not(x[0] == x[2] or x[1] == x[3])]\n",
    "for (x1, y1, x2, y2) in diags:\n",
    "    xstep = -sign(x1-x2)\n",
    "    ystep = -sign(y1-y2)\n",
    "    y = y1\n",
    "    for x in range(x1,x2+xstep,xstep):\n",
    "        \n",
    "        grid[x,y] = grid[x,y] + 1 if grid[x,y] else 1\n",
    "        y += ystep\n",
    "        "
   ],
   "outputs": [],
   "metadata": {}
  }
 ],
 "metadata": {
  "orig_nbformat": 4,
  "language_info": {
   "name": "python",
   "version": "3.9.5",
   "mimetype": "text/x-python",
   "codemirror_mode": {
    "name": "ipython",
    "version": 3
   },
   "pygments_lexer": "ipython3",
   "nbconvert_exporter": "python",
   "file_extension": ".py"
  },
  "kernelspec": {
   "name": "python3",
   "display_name": "Python 3.9.5 64-bit"
  },
  "interpreter": {
   "hash": "36cf16204b8548560b1c020c4e8fb5b57f0e4c58016f52f2d4be01e192833930"
  }
 },
 "nbformat": 4,
 "nbformat_minor": 2
}